{
 "cells": [
  {
   "cell_type": "code",
   "execution_count": 6,
   "id": "221a4226",
   "metadata": {},
   "outputs": [
    {
     "name": "stdout",
     "output_type": "stream",
     "text": [
      "True\n",
      "10 is greater than 9: True\n",
      "10 is equal to 9: False\n",
      "10 is smaller than 9: False\n"
     ]
    }
   ],
   "source": [
    "# Comparing 2 values, can get results in the form of True or False\n",
    "print(10>9)\n",
    "print('10 is greater than 9:',10>9)\n",
    "print('10 is equal to 9:',10==9)\n",
    "print('10 is smaller than 9:',10<9)"
   ]
  },
  {
   "cell_type": "code",
   "execution_count": 13,
   "id": "9b429a54",
   "metadata": {},
   "outputs": [],
   "source": [
    "# as per condtion"
   ]
  },
  {
   "cell_type": "code",
   "execution_count": 12,
   "id": "a0ad434d",
   "metadata": {},
   "outputs": [
    {
     "name": "stdout",
     "output_type": "stream",
     "text": [
      "'understandable' word present in the txt\n"
     ]
    }
   ],
   "source": [
    "# Can have message printed based on true or false conditions\n",
    "\n",
    "txt='Python is understandable'\n",
    "if 'understandable' in txt:\n",
    "    print(\"'understandable' word present in the txt\")\n",
    "else:\n",
    "    print('False')"
   ]
  },
  {
   "cell_type": "code",
   "execution_count": 26,
   "id": "4b7fde03",
   "metadata": {},
   "outputs": [],
   "source": [
    "# Almost all strings, numbers, lists, tuples, sets, etc\n",
    "# when evaluated, give result as true\n",
    "# when they have any content in them"
   ]
  },
  {
   "cell_type": "code",
   "execution_count": 24,
   "id": "2f6a3f6a",
   "metadata": {},
   "outputs": [
    {
     "name": "stdout",
     "output_type": "stream",
     "text": [
      "True\n",
      "True\n",
      "True\n",
      "True\n",
      "True\n"
     ]
    }
   ],
   "source": [
    "print(bool('Hello'))\n",
    "print(bool(2+6j))\n",
    "print(bool(['bird', 'animals','fish']))\n",
    "print(bool(('bird', 'animals','fish')))\n",
    "print(bool({'bird', 'animals','fish'}))"
   ]
  },
  {
   "cell_type": "code",
   "execution_count": 27,
   "id": "4badae00",
   "metadata": {},
   "outputs": [],
   "source": [
    "#  while no string, number 0, empty lists, tuples and sets\n",
    "#  when evaluated give result as False"
   ]
  },
  {
   "cell_type": "code",
   "execution_count": 28,
   "id": "8419f265",
   "metadata": {},
   "outputs": [
    {
     "name": "stdout",
     "output_type": "stream",
     "text": [
      "False\n",
      "False\n",
      "False\n",
      "False\n",
      "False\n"
     ]
    }
   ],
   "source": [
    "print(bool(\"\"))\n",
    "print(bool(0))\n",
    "print(bool([]))\n",
    "print(bool(()))\n",
    "print(bool({}))"
   ]
  },
  {
   "cell_type": "code",
   "execution_count": 32,
   "id": "c1a6dc5c",
   "metadata": {},
   "outputs": [
    {
     "name": "stdout",
     "output_type": "stream",
     "text": [
      "True\n"
     ]
    }
   ],
   "source": [
    "# There is a scenario where you can get boolean value as False as an answer when\n",
    "# you have an object which is made from a class\n",
    "# and this class is defined by a '_len_' function >\n",
    "# it is used to define the length of own class used to return the length of any custom object created\n",
    "\n",
    "# so that '_len_' function if it returns 0 or false, you get a false\n",
    "\n",
    "class myclass1():\n",
    "    def _len_(self):\n",
    "        return 0\n",
    "    \n",
    "myobject = myclass1()\n",
    "print(bool(myobject))\n"
   ]
  },
  {
   "cell_type": "code",
   "execution_count": 34,
   "id": "26092013",
   "metadata": {},
   "outputs": [
    {
     "name": "stdout",
     "output_type": "stream",
     "text": [
      "True\n",
      "\n",
      "False\n"
     ]
    }
   ],
   "source": [
    "# You can also create functions which return a Boolean Value\n",
    "\n",
    "def myfunction1():\n",
    "    return True\n",
    "\n",
    "print (myfunction1())\n",
    "\n",
    "print()\n",
    "\n",
    "def myfunction2():\n",
    "    return False\n",
    "\n",
    "print (myfunction2())"
   ]
  },
  {
   "cell_type": "code",
   "execution_count": 31,
   "id": "0dbb4a37",
   "metadata": {},
   "outputs": [
    {
     "name": "stdout",
     "output_type": "stream",
     "text": [
      "Yes\n"
     ]
    }
   ],
   "source": [
    "# You can execute a code based on its boolean value w.r.t the function\n",
    "\n",
    "def myfunction():\n",
    "    return True\n",
    "\n",
    "if myfunction():\n",
    "    print('Yes')\n",
    "else:\n",
    "    print('No')"
   ]
  },
  {
   "cell_type": "code",
   "execution_count": 36,
   "id": "ff7ce49f",
   "metadata": {},
   "outputs": [
    {
     "name": "stdout",
     "output_type": "stream",
     "text": [
      "True\n",
      "\n",
      "False\n",
      "\n",
      "True\n"
     ]
    }
   ],
   "source": [
    "# As we know, Python as many built-in functions which return boolean value. Like isnull(), isinstance() functions\n",
    "# isinstance() function is used to verify if an object is of a specified datatype\n",
    "\n",
    "x = 50\n",
    "print(isinstance(x, int))\n",
    "\n",
    "print()\n",
    "\n",
    "y= 202.78\n",
    "print(isinstance(y, int))\n",
    "\n",
    "print()\n",
    "\n",
    "z='Python'\n",
    "print(isinstance(z, str))"
   ]
  },
  {
   "cell_type": "code",
   "execution_count": null,
   "id": "21904c7b",
   "metadata": {},
   "outputs": [],
   "source": []
  }
 ],
 "metadata": {
  "kernelspec": {
   "display_name": "Python 3 (ipykernel)",
   "language": "python",
   "name": "python3"
  },
  "language_info": {
   "codemirror_mode": {
    "name": "ipython",
    "version": 3
   },
   "file_extension": ".py",
   "mimetype": "text/x-python",
   "name": "python",
   "nbconvert_exporter": "python",
   "pygments_lexer": "ipython3",
   "version": "3.9.7"
  }
 },
 "nbformat": 4,
 "nbformat_minor": 5
}
